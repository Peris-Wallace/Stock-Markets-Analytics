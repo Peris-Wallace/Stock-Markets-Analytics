{
  "cells": [
    {
      "cell_type": "markdown",
      "metadata": {
        "id": "view-in-github",
        "colab_type": "text"
      },
      "source": [
        "<a href=\"https://colab.research.google.com/github/Peris-Wallace/Stock-Markets-Analytics/blob/main/3.%20Modeling/%2003_homework.ipynb\" target=\"_parent\"><img src=\"https://colab.research.google.com/assets/colab-badge.svg\" alt=\"Open In Colab\"/></a>"
      ]
    },
    {
      "cell_type": "code",
      "execution_count": 2,
      "metadata": {
        "colab": {
          "base_uri": "https://localhost:8080/"
        },
        "id": "4vPfvfETy1Z0",
        "outputId": "3b4ec461-886a-4f7b-ac81-53f8a0182289",
        "collapsed": true
      },
      "outputs": [
        {
          "output_type": "stream",
          "name": "stdout",
          "text": [
            "Found existing installation: gdown 5.2.0\n",
            "Uninstalling gdown-5.2.0:\n",
            "  Successfully uninstalled gdown-5.2.0\n",
            "Collecting gdown\n",
            "  Downloading gdown-5.2.0-py3-none-any.whl.metadata (5.8 kB)\n",
            "Requirement already satisfied: beautifulsoup4 in /usr/local/lib/python3.11/dist-packages (from gdown) (4.13.4)\n",
            "Requirement already satisfied: filelock in /usr/local/lib/python3.11/dist-packages (from gdown) (3.18.0)\n",
            "Requirement already satisfied: requests[socks] in /usr/local/lib/python3.11/dist-packages (from gdown) (2.32.3)\n",
            "Requirement already satisfied: tqdm in /usr/local/lib/python3.11/dist-packages (from gdown) (4.67.1)\n",
            "Requirement already satisfied: soupsieve>1.2 in /usr/local/lib/python3.11/dist-packages (from beautifulsoup4->gdown) (2.7)\n",
            "Requirement already satisfied: typing-extensions>=4.0.0 in /usr/local/lib/python3.11/dist-packages (from beautifulsoup4->gdown) (4.14.1)\n",
            "Requirement already satisfied: charset-normalizer<4,>=2 in /usr/local/lib/python3.11/dist-packages (from requests[socks]->gdown) (3.4.2)\n",
            "Requirement already satisfied: idna<4,>=2.5 in /usr/local/lib/python3.11/dist-packages (from requests[socks]->gdown) (3.10)\n",
            "Requirement already satisfied: urllib3<3,>=1.21.1 in /usr/local/lib/python3.11/dist-packages (from requests[socks]->gdown) (2.4.0)\n",
            "Requirement already satisfied: certifi>=2017.4.17 in /usr/local/lib/python3.11/dist-packages (from requests[socks]->gdown) (2025.7.9)\n",
            "Requirement already satisfied: PySocks!=1.5.7,>=1.5.6 in /usr/local/lib/python3.11/dist-packages (from requests[socks]->gdown) (1.7.1)\n",
            "Downloading gdown-5.2.0-py3-none-any.whl (18 kB)\n",
            "Installing collected packages: gdown\n",
            "Successfully installed gdown-5.2.0\n",
            "gdown 5.2.0 at /usr/local/lib/python3.11/dist-packages\n"
          ]
        }
      ],
      "source": [
        "# !pip uninstall gdown -y && pip install gdown\n",
        "# !gdown -V"
      ]
    },
    {
      "cell_type": "code",
      "execution_count": 3,
      "metadata": {
        "id": "ge4C2c2_w7Ac"
      },
      "outputs": [],
      "source": [
        "# IMPORTS\n",
        "import numpy as np\n",
        "import pandas as pd\n",
        "from math import sqrt\n",
        "\n",
        "import yfinance as yf\n",
        "import pandas_datareader as pdr\n",
        "\n",
        "from sklearn.impute import SimpleImputer\n",
        "from sklearn.tree import DecisionTreeClassifier\n",
        "from sklearn.tree import plot_tree\n",
        "from sklearn.metrics import (accuracy_score,\n",
        "                            precision_score,\n",
        "                            f1_score,\n",
        "                            mean_squared_error)\n",
        "\n",
        "import plotly.graph_objs as go\n",
        "import plotly.graph_objects as go\n",
        "import plotly.express as px\n",
        "import matplotlib.pyplot as plt\n",
        "from matplotlib import pyplot\n",
        "\n",
        "import time\n",
        "from datetime import date, datetime\n",
        "import calendar"
      ]
    },
    {
      "cell_type": "code",
      "execution_count": 4,
      "metadata": {
        "colab": {
          "base_uri": "https://localhost:8080/"
        },
        "id": "n-s1660YysQd",
        "outputId": "a65798f9-e4bd-47a0-f785-cc05b72e1c62"
      },
      "outputs": [
        {
          "output_type": "stream",
          "name": "stdout",
          "text": [
            "Downloading...\n",
            "From (original): https://drive.google.com/uc?id=1mb0ae2M5AouSDlqcUnIwaHq7avwGNrmB\n",
            "From (redirected): https://drive.google.com/uc?id=1mb0ae2M5AouSDlqcUnIwaHq7avwGNrmB&confirm=t&uuid=a9476040-55d0-40ca-8da4-0a754e3ae560\n",
            "To: /content/stocks_df_combined_2025_06_13.parquet.brotli\n",
            "100% 130M/130M [00:01<00:00, 92.8MB/s]\n"
          ]
        }
      ],
      "source": [
        "# Download the data\n",
        "!gdown https://drive.google.com/file/d/1mb0ae2M5AouSDlqcUnIwaHq7avwGNrmB/view?usp=sharing --fuzzy -O /content/"
      ]
    },
    {
      "cell_type": "code",
      "execution_count": 128,
      "metadata": {
        "id": "AsPVf4XT1JAZ"
      },
      "outputs": [],
      "source": [
        "# Load data\n",
        "df_full = pd.read_parquet(\"/content/stocks_df_combined_2025_06_13.parquet.brotli\", )"
      ]
    },
    {
      "cell_type": "code",
      "source": [
        "# growth indicators excluding future growth\n",
        "GROWTH = [g for g in df_full.columns if g.startswith(\"growth_\") and \"future\" not in g]"
      ],
      "metadata": {
        "id": "cZGbCeevN4TX"
      },
      "execution_count": 129,
      "outputs": []
    },
    {
      "cell_type": "code",
      "execution_count": 130,
      "metadata": {
        "id": "G7kZrwZiIpCN"
      },
      "outputs": [],
      "source": [
        "TO_PREDICT = [g for g in df_full.columns if \"future\" in g]"
      ]
    },
    {
      "cell_type": "code",
      "execution_count": 131,
      "metadata": {
        "id": "FVcJZDyGbH2N"
      },
      "outputs": [],
      "source": [
        "# Define categorical data\n",
        "CATEGORICAL = ['Month', 'Weekday', 'Ticker', 'ticker_type']"
      ]
    },
    {
      "cell_type": "markdown",
      "source": [
        "## **Question 1:** Dummies for Month and Week-of-Month\n",
        "What is the **ABSOLUTE CORRELATION VALUE** of the most correlated dummy variable _w<week_of_month> with the binary outcome `is_positive_growth_30d_future`?\n",
        "\n",
        "From the correlation analysis and modeling, you may have observed that October and November are potentially important seasonal months. In this task, you'll go further by generating dummy variables for both the Month and Week-of-Month (starting from 1). For example, the first week of October should be coded as: `'October_w1'`.\n",
        "\n",
        "Once you've generated these new variables, identify the one with the highest absolute correlation with `is_positive_growth_30d_future`, and round the result to **three decimal places.**\n",
        "\n",
        "**Suggested Steps**\n",
        "1. Use this StackOverflow reference to compute the week of the month using the following formula:\n",
        "\n",
        "  `(d.day - 1) // 7 + 1`\n",
        "2. Create a new string variable that combines the month name and week of the month. Example: 'October_w1', 'November_w2', etc.\n",
        "\n",
        "3. Add the new variable (e.g., `month_wom`) to your set of categorical features.\n",
        "\n",
        "  Your updated categorical feature list should include:\n",
        "\n",
        "  * `'Month'`\n",
        "  * `'Weekday'`\n",
        "  * `'Ticker'`\n",
        "  * `'ticker_type'`\n",
        "  * `'month_wom'`\n",
        "\n",
        "4. Use pandas.get_dummies() to generate dummy variables for all categorical features.\n",
        "\n",
        "  This should result in **approximately 115 dummy variables**, including around 60 for the month_wom feature (12 months × up to 5 weeks).\n",
        "\n",
        "5. Use DataFrame.corr() to compute the correlation between each feature and the target variable `is_positive_growth_30d_future`.\n",
        "\n",
        "6. Filter the correlation results to include only the dummy variables generated from `month_wom`.\n",
        "\n",
        "7. Create a new column named `abs_corr` in the correlation results that stores the absolute value of the correlations.\n",
        "\n",
        "8. Sort the correlation results by `abs_corr` in **descending order**.\n",
        "\n",
        "9. Identify and report the **highest absolute correlation value** among the **month_wom dummy variables**, rounded **to three decimal places**."
      ],
      "metadata": {
        "id": "qNktMLgfLXFc"
      }
    },
    {
      "cell_type": "code",
      "source": [
        "# Clean up date variables\n",
        "df_full['Month'] = df_full['Month'].dt.strftime('%B').astype('object')\n",
        "df_full['Weekday'] = df_full['Weekday'].map(dict(enumerate(calendar.day_name)))\n",
        "\n",
        "# Combine weeday and month variables\n",
        "#df_full['Day_Month'] = df_full['Weekday'] + '_' + df_full['Month']"
      ],
      "metadata": {
        "id": "fp2BiX1VA4ck"
      },
      "execution_count": 136,
      "outputs": []
    },
    {
      "cell_type": "code",
      "source": [
        "df_full['Date'] = pd.to_datetime(df_full['Date'])\n",
        "\n",
        "# Create week of the month\n",
        "week_of_month = df_full['Date'].apply(lambda d: 'w' + str((d.day - 1) // 7 + 1))\n",
        "week_of_month.sample()"
      ],
      "metadata": {
        "colab": {
          "base_uri": "https://localhost:8080/",
          "height": 115
        },
        "id": "R6vkoBLNDTfc",
        "outputId": "91587aed-af54-470c-a341-b2e1dcd5948d"
      },
      "execution_count": 134,
      "outputs": [
        {
          "output_type": "execute_result",
          "data": {
            "text/plain": [
              "4778    w5\n",
              "Name: Date, dtype: object"
            ],
            "text/html": [
              "<div>\n",
              "<style scoped>\n",
              "    .dataframe tbody tr th:only-of-type {\n",
              "        vertical-align: middle;\n",
              "    }\n",
              "\n",
              "    .dataframe tbody tr th {\n",
              "        vertical-align: top;\n",
              "    }\n",
              "\n",
              "    .dataframe thead th {\n",
              "        text-align: right;\n",
              "    }\n",
              "</style>\n",
              "<table border=\"1\" class=\"dataframe\">\n",
              "  <thead>\n",
              "    <tr style=\"text-align: right;\">\n",
              "      <th></th>\n",
              "      <th>Date</th>\n",
              "    </tr>\n",
              "  </thead>\n",
              "  <tbody>\n",
              "    <tr>\n",
              "      <th>4778</th>\n",
              "      <td>w5</td>\n",
              "    </tr>\n",
              "  </tbody>\n",
              "</table>\n",
              "</div><br><label><b>dtype:</b> object</label>"
            ]
          },
          "metadata": {},
          "execution_count": 134
        }
      ]
    },
    {
      "cell_type": "code",
      "source": [
        "# Combine week number and month\n",
        "df_full['Wom_Month'] = week_of_month + '_' + df_full['Month']\n",
        "# df_full[['Month', 'Weekday', 'Day_Month', 'Wom_Month']].head()\n",
        "df_full[['Month', 'Weekday', 'Wom_Month']].sample()"
      ],
      "metadata": {
        "colab": {
          "base_uri": "https://localhost:8080/",
          "height": 81
        },
        "id": "bj7y28fRB3BZ",
        "outputId": "eea12f10-4f5c-4d45-cc2b-99c56311be7e"
      },
      "execution_count": 137,
      "outputs": [
        {
          "output_type": "execute_result",
          "data": {
            "text/plain": [
              "         Month    Weekday   Wom_Month\n",
              "11018  January  Wednesday  w3_January"
            ],
            "text/html": [
              "\n",
              "  <div id=\"df-d66d4217-33fb-41a0-91cf-62ffb044f384\" class=\"colab-df-container\">\n",
              "    <div>\n",
              "<style scoped>\n",
              "    .dataframe tbody tr th:only-of-type {\n",
              "        vertical-align: middle;\n",
              "    }\n",
              "\n",
              "    .dataframe tbody tr th {\n",
              "        vertical-align: top;\n",
              "    }\n",
              "\n",
              "    .dataframe thead th {\n",
              "        text-align: right;\n",
              "    }\n",
              "</style>\n",
              "<table border=\"1\" class=\"dataframe\">\n",
              "  <thead>\n",
              "    <tr style=\"text-align: right;\">\n",
              "      <th></th>\n",
              "      <th>Month</th>\n",
              "      <th>Weekday</th>\n",
              "      <th>Wom_Month</th>\n",
              "    </tr>\n",
              "  </thead>\n",
              "  <tbody>\n",
              "    <tr>\n",
              "      <th>11018</th>\n",
              "      <td>January</td>\n",
              "      <td>Wednesday</td>\n",
              "      <td>w3_January</td>\n",
              "    </tr>\n",
              "  </tbody>\n",
              "</table>\n",
              "</div>\n",
              "    <div class=\"colab-df-buttons\">\n",
              "\n",
              "  <div class=\"colab-df-container\">\n",
              "    <button class=\"colab-df-convert\" onclick=\"convertToInteractive('df-d66d4217-33fb-41a0-91cf-62ffb044f384')\"\n",
              "            title=\"Convert this dataframe to an interactive table.\"\n",
              "            style=\"display:none;\">\n",
              "\n",
              "  <svg xmlns=\"http://www.w3.org/2000/svg\" height=\"24px\" viewBox=\"0 -960 960 960\">\n",
              "    <path d=\"M120-120v-720h720v720H120Zm60-500h600v-160H180v160Zm220 220h160v-160H400v160Zm0 220h160v-160H400v160ZM180-400h160v-160H180v160Zm440 0h160v-160H620v160ZM180-180h160v-160H180v160Zm440 0h160v-160H620v160Z\"/>\n",
              "  </svg>\n",
              "    </button>\n",
              "\n",
              "  <style>\n",
              "    .colab-df-container {\n",
              "      display:flex;\n",
              "      gap: 12px;\n",
              "    }\n",
              "\n",
              "    .colab-df-convert {\n",
              "      background-color: #E8F0FE;\n",
              "      border: none;\n",
              "      border-radius: 50%;\n",
              "      cursor: pointer;\n",
              "      display: none;\n",
              "      fill: #1967D2;\n",
              "      height: 32px;\n",
              "      padding: 0 0 0 0;\n",
              "      width: 32px;\n",
              "    }\n",
              "\n",
              "    .colab-df-convert:hover {\n",
              "      background-color: #E2EBFA;\n",
              "      box-shadow: 0px 1px 2px rgba(60, 64, 67, 0.3), 0px 1px 3px 1px rgba(60, 64, 67, 0.15);\n",
              "      fill: #174EA6;\n",
              "    }\n",
              "\n",
              "    .colab-df-buttons div {\n",
              "      margin-bottom: 4px;\n",
              "    }\n",
              "\n",
              "    [theme=dark] .colab-df-convert {\n",
              "      background-color: #3B4455;\n",
              "      fill: #D2E3FC;\n",
              "    }\n",
              "\n",
              "    [theme=dark] .colab-df-convert:hover {\n",
              "      background-color: #434B5C;\n",
              "      box-shadow: 0px 1px 3px 1px rgba(0, 0, 0, 0.15);\n",
              "      filter: drop-shadow(0px 1px 2px rgba(0, 0, 0, 0.3));\n",
              "      fill: #FFFFFF;\n",
              "    }\n",
              "  </style>\n",
              "\n",
              "    <script>\n",
              "      const buttonEl =\n",
              "        document.querySelector('#df-d66d4217-33fb-41a0-91cf-62ffb044f384 button.colab-df-convert');\n",
              "      buttonEl.style.display =\n",
              "        google.colab.kernel.accessAllowed ? 'block' : 'none';\n",
              "\n",
              "      async function convertToInteractive(key) {\n",
              "        const element = document.querySelector('#df-d66d4217-33fb-41a0-91cf-62ffb044f384');\n",
              "        const dataTable =\n",
              "          await google.colab.kernel.invokeFunction('convertToInteractive',\n",
              "                                                    [key], {});\n",
              "        if (!dataTable) return;\n",
              "\n",
              "        const docLinkHtml = 'Like what you see? Visit the ' +\n",
              "          '<a target=\"_blank\" href=https://colab.research.google.com/notebooks/data_table.ipynb>data table notebook</a>'\n",
              "          + ' to learn more about interactive tables.';\n",
              "        element.innerHTML = '';\n",
              "        dataTable['output_type'] = 'display_data';\n",
              "        await google.colab.output.renderOutput(dataTable, element);\n",
              "        const docLink = document.createElement('div');\n",
              "        docLink.innerHTML = docLinkHtml;\n",
              "        element.appendChild(docLink);\n",
              "      }\n",
              "    </script>\n",
              "  </div>\n",
              "\n",
              "\n",
              "    </div>\n",
              "  </div>\n"
            ],
            "application/vnd.google.colaboratory.intrinsic+json": {
              "type": "dataframe",
              "summary": "{\n  \"name\": \"df_full[['Month', 'Weekday', 'Wom_Month']]\",\n  \"rows\": 1,\n  \"fields\": [\n    {\n      \"column\": \"Month\",\n      \"properties\": {\n        \"dtype\": \"string\",\n        \"num_unique_values\": 1,\n        \"samples\": [\n          \"January\"\n        ],\n        \"semantic_type\": \"\",\n        \"description\": \"\"\n      }\n    },\n    {\n      \"column\": \"Weekday\",\n      \"properties\": {\n        \"dtype\": \"string\",\n        \"num_unique_values\": 1,\n        \"samples\": [\n          \"Wednesday\"\n        ],\n        \"semantic_type\": \"\",\n        \"description\": \"\"\n      }\n    },\n    {\n      \"column\": \"Wom_Month\",\n      \"properties\": {\n        \"dtype\": \"string\",\n        \"num_unique_values\": 1,\n        \"samples\": [\n          \"w3_January\"\n        ],\n        \"semantic_type\": \"\",\n        \"description\": \"\"\n      }\n    }\n  ]\n}"
            }
          },
          "metadata": {},
          "execution_count": 137
        }
      ]
    },
    {
      "cell_type": "code",
      "source": [
        "# CATEGORICAL = CATEGORICAL + ['Day_Month', 'Wom_Month']\n",
        "CATEGORICAL = CATEGORICAL + ['Wom_Month']"
      ],
      "metadata": {
        "id": "Ra_sJGYcGGoO"
      },
      "execution_count": 138,
      "outputs": []
    },
    {
      "cell_type": "code",
      "execution_count": 15,
      "metadata": {
        "id": "O28ePT2AI892"
      },
      "outputs": [],
      "source": [
        "OHLCV = ['Open','High','Low','Close','Adj Close_x','Volume']"
      ]
    },
    {
      "cell_type": "code",
      "source": [
        "# define log volume, avoid errors by adding log(1+x) when x = 0\n",
        "df_full['ln_volume'] = np.log1p(df_full['Volume'])"
      ],
      "metadata": {
        "id": "skxR1hqdTkmD"
      },
      "execution_count": 17,
      "outputs": []
    },
    {
      "cell_type": "code",
      "execution_count": 19,
      "metadata": {
        "id": "lukhBLIcfW8g"
      },
      "outputs": [],
      "source": [
        "# manually defined features\n",
        "CUSTOM_NUMERICAL = ['SMA10', 'SMA20', 'growing_moving_average', 'high_minus_low_relative','volatility', 'ln_volume']"
      ]
    },
    {
      "cell_type": "code",
      "execution_count": 20,
      "metadata": {
        "id": "IpRKmVtaf6is"
      },
      "outputs": [],
      "source": [
        "# All Supported Ta-lib indicators: https://github.com/TA-Lib/ta-lib-python/blob/master/docs/funcs.md\n",
        "\n",
        "TECHNICAL_INDICATORS = ['adx', 'adxr', 'apo', 'aroon_1','aroon_2', 'aroonosc',\n",
        " 'bop', 'cci', 'cmo','dx', 'macd', 'macdsignal', 'macdhist', 'macd_ext',\n",
        " 'macdsignal_ext', 'macdhist_ext', 'macd_fix', 'macdsignal_fix',\n",
        " 'macdhist_fix', 'mfi', 'minus_di', 'mom', 'plus_di', 'dm', 'ppo','roc', 'rocp', 'rocr', 'rocr100', 'rsi', 'slowk', 'slowd', 'fastk','fastd', 'fastk_rsi', 'fastd_rsi', 'trix', 'ultosc', 'willr','ad','adosc', 'obv', 'atr', 'natr', 'ht_dcperiod', 'ht_dcphase','ht_phasor_inphase', 'ht_phasor_quadrature', 'ht_sine_sine', 'ht_sine_leadsine','ht_trendmod', 'avgprice', 'medprice', 'typprice', 'wclprice']"
      ]
    },
    {
      "cell_type": "code",
      "execution_count": 139,
      "metadata": {
        "id": "ncPdBnx13ilm"
      },
      "outputs": [],
      "source": [
        "TECHNICAL_PATTERNS = [g for g in df_full.keys() if g.find('cdl')>=0]"
      ]
    },
    {
      "cell_type": "code",
      "execution_count": 22,
      "metadata": {
        "id": "SUa1pIvB4o5w"
      },
      "outputs": [],
      "source": [
        "MACRO = ['gdppot_us_yoy', 'gdppot_us_qoq', 'cpi_core_yoy', 'cpi_core_mom', 'FEDFUNDS', 'DGS1', 'DGS5', 'DGS10']"
      ]
    },
    {
      "cell_type": "code",
      "execution_count": 23,
      "metadata": {
        "id": "nakB0XZA1uFq"
      },
      "outputs": [],
      "source": [
        "NUMERICAL = GROWTH + TECHNICAL_INDICATORS + TECHNICAL_PATTERNS + CUSTOM_NUMERICAL + MACRO"
      ]
    },
    {
      "cell_type": "code",
      "source": [
        "TO_DROP = ['Year','Date','index_x', 'index_y', 'index', 'Quarter','Adj Close_y'] + CATEGORICAL + OHLCV"
      ],
      "metadata": {
        "id": "vLKPGWl0HUzW"
      },
      "execution_count": 24,
      "outputs": []
    },
    {
      "cell_type": "code",
      "execution_count": 25,
      "metadata": {
        "colab": {
          "base_uri": "https://localhost:8080/"
        },
        "id": "Ri9F9mIwIuVa",
        "outputId": "09a9a0d7-bf8c-40c1-8599-ccaf59a90806"
      },
      "outputs": [
        {
          "output_type": "stream",
          "name": "stdout",
          "text": [
            "['Close_x', 'Dividends', 'Stock Splits', 'Close_y']\n"
          ]
        }
      ],
      "source": [
        "# CHECK: NO OTHER INDICATORS LEFT\n",
        "OTHER = [k for k in df_full.keys() if k not in OHLCV + CATEGORICAL + NUMERICAL + TO_PREDICT + TO_DROP]\n",
        "print(OTHER)"
      ]
    },
    {
      "cell_type": "code",
      "execution_count": 26,
      "metadata": {
        "colab": {
          "base_uri": "https://localhost:8080/"
        },
        "id": "-zv_OOrK1ulV",
        "outputId": "cf2dbb9d-78ca-4a97-96b1-a3c0285e2017"
      },
      "outputs": [
        {
          "output_type": "execute_result",
          "data": {
            "text/plain": [
              "33"
            ]
          },
          "metadata": {},
          "execution_count": 26
        }
      ],
      "source": [
        "df_full.Ticker.nunique()"
      ]
    },
    {
      "cell_type": "code",
      "execution_count": 140,
      "metadata": {
        "id": "FmIpnwsJLvtI"
      },
      "outputs": [],
      "source": [
        "# truncated df_full with 25 years of data\n",
        "df = df_full[df_full.Date>='2000-01-01'].reset_index(drop=True)"
      ]
    },
    {
      "cell_type": "markdown",
      "metadata": {
        "id": "YK6TYOZIcBNU"
      },
      "source": [
        "### ***Generating dummies***"
      ]
    },
    {
      "cell_type": "code",
      "execution_count": 30,
      "metadata": {
        "id": "tuAlw48XKjE5"
      },
      "outputs": [],
      "source": [
        "# Generate dummy variables\n",
        "dummy_variables = pd.get_dummies(df[CATEGORICAL], dtype='int32')"
      ]
    },
    {
      "cell_type": "code",
      "execution_count": 31,
      "metadata": {
        "colab": {
          "base_uri": "https://localhost:8080/"
        },
        "id": "gzzG2DfZKpFn",
        "outputId": "ce35f451-ba0e-4de7-91e1-48e3ee367f90"
      },
      "outputs": [
        {
          "output_type": "stream",
          "name": "stdout",
          "text": [
            "<class 'pandas.core.frame.DataFrame'>\n",
            "RangeIndex: 191795 entries, 0 to 191794\n",
            "Columns: 115 entries, Month_April to Wom_Month_w5_September\n",
            "dtypes: int32(115)\n",
            "memory usage: 84.1 MB\n"
          ]
        }
      ],
      "source": [
        "dummy_variables.info()"
      ]
    },
    {
      "cell_type": "code",
      "execution_count": 32,
      "metadata": {
        "id": "sxLHnVE3RaaU"
      },
      "outputs": [],
      "source": [
        "# get dummies names in a list\n",
        "DUMMIES = dummy_variables.keys().to_list()"
      ]
    },
    {
      "cell_type": "code",
      "execution_count": 33,
      "metadata": {
        "id": "j0e65F71Kl15"
      },
      "outputs": [],
      "source": [
        "# Concatenate the dummy variables with the original DataFrame\n",
        "df_with_dummies = pd.concat([df, dummy_variables], axis=1)"
      ]
    },
    {
      "cell_type": "code",
      "execution_count": 35,
      "metadata": {
        "colab": {
          "base_uri": "https://localhost:8080/"
        },
        "id": "4Qim1MIwUWE9",
        "outputId": "ebcc4df1-2dea-44a0-e7f9-3360a5eda400"
      },
      "outputs": [
        {
          "output_type": "stream",
          "name": "stdout",
          "text": [
            "<class 'pandas.core.frame.DataFrame'>\n",
            "RangeIndex: 191795 entries, 0 to 191794\n",
            "Columns: 299 entries, growth_1d to Wom_Month_w5_September\n",
            "dtypes: float64(121), int32(177), int64(1)\n",
            "memory usage: 308.0 MB\n"
          ]
        }
      ],
      "source": [
        "df_with_dummies[NUMERICAL+DUMMIES].info()"
      ]
    },
    {
      "cell_type": "markdown",
      "source": [
        "### ***Correlation Analysis***"
      ],
      "metadata": {
        "id": "4_GMRWtV7_UD"
      }
    },
    {
      "cell_type": "code",
      "source": [
        "corr_is_positive_growth_30d_future = df_with_dummies[NUMERICAL+DUMMIES+TO_PREDICT].corr()['is_positive_growth_30d_future']\n",
        "\n",
        "# create a dataframe for an easy way to sort\n",
        "corr_is_positive_growth_30d_future_df = pd.DataFrame(corr_is_positive_growth_30d_future)"
      ],
      "metadata": {
        "id": "NLEl1w0y7TQj"
      },
      "execution_count": 37,
      "outputs": []
    },
    {
      "cell_type": "code",
      "source": [
        "# Get absolute correlation\n",
        "corr_is_positive_growth_30d_future_df['abs_corr'] = corr_is_positive_growth_30d_future_df['is_positive_growth_30d_future'].abs()"
      ],
      "metadata": {
        "id": "jChnuz0F8-Cb"
      },
      "execution_count": 38,
      "outputs": []
    },
    {
      "cell_type": "code",
      "source": [
        "print(corr_is_positive_growth_30d_future_df.sort_values(by=['abs_corr'], ascending=False).round(3).head(15))"
      ],
      "metadata": {
        "colab": {
          "base_uri": "https://localhost:8080/"
        },
        "id": "kg9-RkWY9AMA",
        "outputId": "318b0f80-e5b1-49bb-f3ee-ef1c8c538cc9"
      },
      "execution_count": 39,
      "outputs": [
        {
          "output_type": "stream",
          "name": "stdout",
          "text": [
            "                               is_positive_growth_30d_future  abs_corr\n",
            "is_positive_growth_30d_future                          1.000     1.000\n",
            "growth_future_30d                                      0.696     0.696\n",
            "DGS10                                                 -0.067     0.067\n",
            "DGS5                                                  -0.060     0.060\n",
            "gdppot_us_yoy                                         -0.058     0.058\n",
            "gdppot_us_qoq                                         -0.058     0.058\n",
            "growth_brent_oil_365d                                 -0.056     0.056\n",
            "growth_epi_365d                                       -0.052     0.052\n",
            "cpi_core_yoy                                          -0.045     0.045\n",
            "growth_dji_365d                                       -0.041     0.041\n",
            "cpi_core_mom                                          -0.041     0.041\n",
            "growth_wti_oil_365d                                   -0.039     0.039\n",
            "growth_dji_30d                                        -0.038     0.038\n",
            "growth_dax_365d                                       -0.037     0.037\n",
            "Month_October                                          0.035     0.035\n"
          ]
        }
      ]
    },
    {
      "cell_type": "code",
      "source": [
        "print(corr_is_positive_growth_30d_future_df.sort_values(by=['abs_corr'], ascending=False).round(3).tail(20))"
      ],
      "metadata": {
        "colab": {
          "base_uri": "https://localhost:8080/"
        },
        "id": "Kl4mD8xi9KQu",
        "outputId": "80a98ad3-049d-4698-ea81-c21a2c5acd7b"
      },
      "execution_count": 40,
      "outputs": [
        {
          "output_type": "stream",
          "name": "stdout",
          "text": [
            "                     is_positive_growth_30d_future  abs_corr\n",
            "Ticker_JPM                                   0.001     0.001\n",
            "cdllongleggeddoji                           -0.001     0.001\n",
            "Wom_Month_w4_May                            -0.001     0.001\n",
            "cdlbreakaway                                -0.001     0.001\n",
            "cdl3blackrows                                0.001     0.001\n",
            "Ticker_HDB                                  -0.001     0.001\n",
            "cdlgravestonedoji                            0.000     0.000\n",
            "cdlxsidegap3methods                         -0.000     0.000\n",
            "cdlhikkake                                   0.000     0.000\n",
            "cdlrickshawman                              -0.000     0.000\n",
            "Ticker_MSFT                                 -0.000     0.000\n",
            "Wom_Month_w1_March                           0.000     0.000\n",
            "growth_brent_oil_1d                         -0.000     0.000\n",
            "Weekday_Monday                              -0.000     0.000\n",
            "cdlstalledpattern                            0.000     0.000\n",
            "growth_brent_oil_3d                          0.000     0.000\n",
            "Wom_Month_w1_July                           -0.000     0.000\n",
            "cdl3starsinsouth                               NaN       NaN\n",
            "cdlconcealbabyswall                            NaN       NaN\n",
            "cdlmathold                                     NaN       NaN\n"
          ]
        }
      ]
    },
    {
      "cell_type": "code",
      "source": [
        "# Define wom_month dummies for correlation analysis\n",
        "wom_month_dummies = [dummy for dummy in df_with_dummies.columns if dummy.startswith('Wom_Month_')]\n",
        "print(len(wom_month_dummies))"
      ],
      "metadata": {
        "colab": {
          "base_uri": "https://localhost:8080/"
        },
        "collapsed": true,
        "id": "9XWc6Z0mH47_",
        "outputId": "f2736994-7a6c-4f58-df23-ce90a82c625b"
      },
      "execution_count": 45,
      "outputs": [
        {
          "output_type": "stream",
          "name": "stdout",
          "text": [
            "60\n"
          ]
        }
      ]
    },
    {
      "cell_type": "code",
      "source": [
        "corr_is_positive_growth_30d_future_wom = df_with_dummies[wom_month_dummies+TO_PREDICT[1:]].corr()['is_positive_growth_30d_future']\n",
        "\n",
        "# Convert to dataframe for sorting\n",
        "corr_is_positive_growth_30d_future_wom_df = pd.DataFrame(corr_is_positive_growth_30d_future_wom)"
      ],
      "metadata": {
        "id": "zZKBlMhwJuAj"
      },
      "execution_count": 46,
      "outputs": []
    },
    {
      "cell_type": "code",
      "source": [
        "# Get absolute correlation\n",
        "corr_is_positive_growth_30d_future_wom_df['abs_corr'] = corr_is_positive_growth_30d_future_wom_df['is_positive_growth_30d_future'].abs()\n",
        "\n",
        "\n",
        "print(corr_is_positive_growth_30d_future_wom_df['abs_corr'].sort_values(ascending=False).round(3).head())"
      ],
      "metadata": {
        "colab": {
          "base_uri": "https://localhost:8080/"
        },
        "id": "SzhmwbYMJ_q4",
        "outputId": "deb54a41-d739-4c34-e784-0883ae7f594e"
      },
      "execution_count": 47,
      "outputs": [
        {
          "output_type": "stream",
          "name": "stdout",
          "text": [
            "is_positive_growth_30d_future    1.000\n",
            "Wom_Month_w4_October             0.025\n",
            "Wom_Month_w3_November            0.022\n",
            "Wom_Month_w2_November            0.019\n",
            "Wom_Month_w2_January             0.018\n",
            "Name: abs_corr, dtype: float64\n"
          ]
        }
      ]
    },
    {
      "cell_type": "markdown",
      "source": [
        "The highest absolute value among the week of the month - month dummy variables is 0.025"
      ],
      "metadata": {
        "id": "kRFwSc15M2GF"
      }
    },
    {
      "cell_type": "markdown",
      "source": [
        "\n",
        "\n",
        "---\n",
        "\n"
      ],
      "metadata": {
        "id": "522SfT4FNDAO"
      }
    },
    {
      "cell_type": "markdown",
      "metadata": {
        "id": "aDcUuE1atTM8"
      },
      "source": [
        "### ***Temporal split of ~25 years of data (by date)***"
      ]
    },
    {
      "cell_type": "code",
      "execution_count": 48,
      "metadata": {
        "id": "loo6ktrtvKrn"
      },
      "outputs": [],
      "source": [
        "def temporal_split(df, min_date, max_date, train_prop=0.7, val_prop=0.15, test_prop=0.15):\n",
        "\n",
        "    # Define the date intervals\n",
        "    train_end = min_date + pd.Timedelta(days=(max_date - min_date).days * train_prop)\n",
        "    val_end = train_end + pd.Timedelta(days=(max_date - min_date).days * val_prop)\n",
        "\n",
        "    # Assign split labels based on date ranges\n",
        "    split_labels = []\n",
        "    for date in df['Date']:\n",
        "        if date <= train_end:\n",
        "            split_labels.append('train')\n",
        "        elif date <= val_end:\n",
        "            split_labels.append('validation')\n",
        "        else:\n",
        "            split_labels.append('test')\n",
        "\n",
        "    # Add 'split' column to the DataFrame\n",
        "    df['split'] = split_labels\n",
        "\n",
        "    return df"
      ]
    },
    {
      "cell_type": "code",
      "execution_count": 49,
      "metadata": {
        "id": "G0gVQMUEyNIc"
      },
      "outputs": [],
      "source": [
        "min_date_df = df_with_dummies.Date.min()\n",
        "max_date_df = df_with_dummies.Date.max()\n",
        "\n",
        "df_with_dummies = temporal_split(df_with_dummies,\n",
        "                                 min_date = min_date_df,\n",
        "                                 max_date = max_date_df)"
      ]
    },
    {
      "cell_type": "code",
      "execution_count": 50,
      "metadata": {
        "colab": {
          "base_uri": "https://localhost:8080/",
          "height": 210
        },
        "id": "X-aPYFprylhp",
        "outputId": "51a34f47-b30b-4b90-ad87-5610bfbaf673"
      },
      "outputs": [
        {
          "output_type": "execute_result",
          "data": {
            "text/plain": [
              "split\n",
              "train         0.676399\n",
              "test          0.163758\n",
              "validation    0.159843\n",
              "Name: proportion, dtype: float64"
            ],
            "text/html": [
              "<div>\n",
              "<style scoped>\n",
              "    .dataframe tbody tr th:only-of-type {\n",
              "        vertical-align: middle;\n",
              "    }\n",
              "\n",
              "    .dataframe tbody tr th {\n",
              "        vertical-align: top;\n",
              "    }\n",
              "\n",
              "    .dataframe thead th {\n",
              "        text-align: right;\n",
              "    }\n",
              "</style>\n",
              "<table border=\"1\" class=\"dataframe\">\n",
              "  <thead>\n",
              "    <tr style=\"text-align: right;\">\n",
              "      <th></th>\n",
              "      <th>proportion</th>\n",
              "    </tr>\n",
              "    <tr>\n",
              "      <th>split</th>\n",
              "      <th></th>\n",
              "    </tr>\n",
              "  </thead>\n",
              "  <tbody>\n",
              "    <tr>\n",
              "      <th>train</th>\n",
              "      <td>0.676399</td>\n",
              "    </tr>\n",
              "    <tr>\n",
              "      <th>test</th>\n",
              "      <td>0.163758</td>\n",
              "    </tr>\n",
              "    <tr>\n",
              "      <th>validation</th>\n",
              "      <td>0.159843</td>\n",
              "    </tr>\n",
              "  </tbody>\n",
              "</table>\n",
              "</div><br><label><b>dtype:</b> float64</label>"
            ]
          },
          "metadata": {},
          "execution_count": 50
        }
      ],
      "source": [
        "df_with_dummies['split'].value_counts(normalize=True)"
      ]
    },
    {
      "cell_type": "markdown",
      "metadata": {
        "id": "LOIxiUAEyBOo"
      },
      "source": [
        "# **Modeling**"
      ]
    },
    {
      "cell_type": "code",
      "execution_count": 51,
      "metadata": {
        "id": "CPoJV5bnUnKr"
      },
      "outputs": [],
      "source": [
        "# remove the \"segmentation\" problem (warning message on df performance after many joins and data transformations)\n",
        "new_df = df_with_dummies.copy()"
      ]
    },
    {
      "cell_type": "markdown",
      "metadata": {
        "id": "-N012tLusJNx"
      },
      "source": [
        "## ***Manual \"hand rule\" predictions***\n",
        "* CCI (binary, on technical indicator CCI)\n",
        "* growth_1d>1\n",
        "* growth_1d>1 & growth_snp500_1d>1"
      ]
    },
    {
      "cell_type": "code",
      "execution_count": 65,
      "metadata": {
        "id": "Ujwk8Rpxi5jQ"
      },
      "outputs": [],
      "source": [
        "# Let's label all prediction features with prefix \"pred\"\n",
        "new_df['pred0_manual_cci'] = (new_df['cci']>200).astype(int)\n",
        "new_df['pred1_manual_prev_g1'] = (new_df.growth_30d>1).astype(int)\n",
        "new_df['pred2_manual_prev_g1_and_snp'] = ((new_df['growth_30d'] > 1) & (new_df['growth_snp500_30d'] > 1)).astype(int)"
      ]
    },
    {
      "cell_type": "markdown",
      "source": [
        "\n",
        "\n",
        "---\n",
        "\n"
      ],
      "metadata": {
        "id": "Uu30TirgmfNB"
      }
    },
    {
      "cell_type": "markdown",
      "source": [
        "## **Question 2 :** Define New \"Hand\" Rules on Macro and Technical Indicator Variables\n",
        "What is the precision score for the best of the NEW predictions (`pred3` or `pred4`), rounded to 3 digits?\n",
        "\n",
        "In this task, you'll apply insights from the **visualized decision tree (clf10)** (see Code Snippet 5: 1.4.4 Visualisation) to manually define and evaluate new predictive rules.\n",
        "\n",
        "1. Define two new 'hand' rules based on branches that lead to 'positive' predictions in the tree:\n",
        "\n",
        "  * `pred3_manual_dgs10_5:\n",
        "  (DGS10 <= 4) & (DGS5 <= 1)`\n",
        "  *`pred4_manual_dgs10_fedfunds:\n",
        "  (DGS10 > 4) & (FEDFUNDS <= 4.795)`\n",
        "\n",
        "  Hint: This is not exactly the same condition as in the estimated tree (original: (DGS10 <= 4.825) & (DGS5 <= 0.745); (DGS10 > 4.825) & (FEDFUNDS <= 4.795)), since in that case, there are no true positive predictions for both variables. Consider why this might be the case.\n",
        "\n",
        "2. Extend Code Snippet 3 (Manual \"hand rule\" predictions):\n",
        "\n",
        "  * Implement and apply the above two rules (`pred3`, `pred4`) to your dataset.\n",
        "  * Add the resulting predictions as new columns in your dataframe (e.g., new_df).\n",
        "\n",
        "3. Compute precision:\n",
        "\n",
        "  * For the rule that does make positive predictions on the TEST set, compute its **precision score**.\n",
        "  * Use standard precision metrics (`TP / (TP + FP`)).\n",
        "  * Round the precision score to **three decimal places.**"
      ],
      "metadata": {
        "id": "V0lEKGz8IrL2"
      }
    },
    {
      "cell_type": "code",
      "source": [
        "new_df['pred3_manual_dgs10_5'] = ((new_df['DGS10'] <= 4) & (new_df['DGS5'] <= 1)).astype(int)\n",
        "new_df['pred4_manual_dgs10_fedfunds'] = ((new_df['DGS10'] > 4) & (new_df['FEDFUNDS'] <= 4.795)).astype(int)"
      ],
      "metadata": {
        "id": "PBAvia0HKnDK"
      },
      "execution_count": 66,
      "outputs": []
    },
    {
      "cell_type": "code",
      "execution_count": 68,
      "metadata": {
        "colab": {
          "base_uri": "https://localhost:8080/"
        },
        "id": "QqYgFqGLA-Ar",
        "outputId": "34c2e61e-01fc-4f6a-db08-891006d484dc"
      },
      "outputs": [
        {
          "output_type": "execute_result",
          "data": {
            "text/plain": [
              "['pred0_manual_cci',\n",
              " 'pred1_manual_prev_g1',\n",
              " 'pred2_manual_prev_g1_and_snp',\n",
              " 'pred3_manual_dgs10_5',\n",
              " 'pred4_manual_dgs10_fedfunds']"
            ]
          },
          "metadata": {},
          "execution_count": 68
        }
      ],
      "source": [
        "PREDICTIONS = [k for k in new_df.keys() if k.startswith('pred')]\n",
        "PREDICTIONS"
      ]
    },
    {
      "cell_type": "code",
      "execution_count": 75,
      "metadata": {
        "id": "-hh7Gd_H_AU3"
      },
      "outputs": [],
      "source": [
        "# generate columns is_correct_\n",
        "for pred in PREDICTIONS:\n",
        "  part1 = pred.split('_')[0] # first prefix before '_'\n",
        "  new_df[f'is_correct_{part1}'] =  (new_df[pred] == new_df.is_positive_growth_30d_future).astype(int)"
      ]
    },
    {
      "cell_type": "code",
      "execution_count": 76,
      "metadata": {
        "colab": {
          "base_uri": "https://localhost:8080/"
        },
        "id": "elm6SLsVCX8L",
        "outputId": "1673d2ca-09e0-4690-ba01-0e3f7e66f27c"
      },
      "outputs": [
        {
          "output_type": "execute_result",
          "data": {
            "text/plain": [
              "['is_correct_pred0',\n",
              " 'is_correct_pred1',\n",
              " 'is_correct_pred2',\n",
              " 'is_correct_pred3',\n",
              " 'is_correct_pred4']"
            ]
          },
          "metadata": {},
          "execution_count": 76
        }
      ],
      "source": [
        "# IS_CORRECT dataset\n",
        "IS_CORRECT =  [k for k in new_df.keys() if k.startswith('is_correct_')]\n",
        "IS_CORRECT"
      ]
    },
    {
      "cell_type": "code",
      "execution_count": 77,
      "metadata": {
        "colab": {
          "base_uri": "https://localhost:8080/",
          "height": 226
        },
        "id": "hhxTefjEC0Mi",
        "outputId": "3517e2f7-715b-469a-c70e-36767640f7e5"
      },
      "outputs": [
        {
          "output_type": "execute_result",
          "data": {
            "text/plain": [
              "        pred0_manual_cci  pred1_manual_prev_g1  pred2_manual_prev_g1_and_snp  \\\n",
              "142243                 0                     1                             0   \n",
              "140299                 0                     0                             0   \n",
              "92037                  0                     1                             1   \n",
              "132406                 0                     1                             1   \n",
              "156648                 0                     1                             1   \n",
              "\n",
              "        pred3_manual_dgs10_5  pred4_manual_dgs10_fedfunds  is_correct_pred0  \\\n",
              "142243                     0                            0                 0   \n",
              "140299                     0                            0                 0   \n",
              "92037                      0                            0                 1   \n",
              "132406                     0                            0                 1   \n",
              "156648                     1                            0                 0   \n",
              "\n",
              "        is_correct_pred1  is_correct_pred2  is_correct_pred3  \\\n",
              "142243                 1                 0                 0   \n",
              "140299                 0                 0                 0   \n",
              "92037                  0                 0                 1   \n",
              "132406                 0                 0                 1   \n",
              "156648                 1                 1                 1   \n",
              "\n",
              "        is_correct_pred4  is_positive_growth_30d_future  \n",
              "142243                 0                              1  \n",
              "140299                 0                              1  \n",
              "92037                  1                              0  \n",
              "132406                 1                              0  \n",
              "156648                 0                              1  "
            ],
            "text/html": [
              "\n",
              "  <div id=\"df-39420a6b-6e06-4a45-a5e7-31a0d75a0179\" class=\"colab-df-container\">\n",
              "    <div>\n",
              "<style scoped>\n",
              "    .dataframe tbody tr th:only-of-type {\n",
              "        vertical-align: middle;\n",
              "    }\n",
              "\n",
              "    .dataframe tbody tr th {\n",
              "        vertical-align: top;\n",
              "    }\n",
              "\n",
              "    .dataframe thead th {\n",
              "        text-align: right;\n",
              "    }\n",
              "</style>\n",
              "<table border=\"1\" class=\"dataframe\">\n",
              "  <thead>\n",
              "    <tr style=\"text-align: right;\">\n",
              "      <th></th>\n",
              "      <th>pred0_manual_cci</th>\n",
              "      <th>pred1_manual_prev_g1</th>\n",
              "      <th>pred2_manual_prev_g1_and_snp</th>\n",
              "      <th>pred3_manual_dgs10_5</th>\n",
              "      <th>pred4_manual_dgs10_fedfunds</th>\n",
              "      <th>is_correct_pred0</th>\n",
              "      <th>is_correct_pred1</th>\n",
              "      <th>is_correct_pred2</th>\n",
              "      <th>is_correct_pred3</th>\n",
              "      <th>is_correct_pred4</th>\n",
              "      <th>is_positive_growth_30d_future</th>\n",
              "    </tr>\n",
              "  </thead>\n",
              "  <tbody>\n",
              "    <tr>\n",
              "      <th>142243</th>\n",
              "      <td>0</td>\n",
              "      <td>1</td>\n",
              "      <td>0</td>\n",
              "      <td>0</td>\n",
              "      <td>0</td>\n",
              "      <td>0</td>\n",
              "      <td>1</td>\n",
              "      <td>0</td>\n",
              "      <td>0</td>\n",
              "      <td>0</td>\n",
              "      <td>1</td>\n",
              "    </tr>\n",
              "    <tr>\n",
              "      <th>140299</th>\n",
              "      <td>0</td>\n",
              "      <td>0</td>\n",
              "      <td>0</td>\n",
              "      <td>0</td>\n",
              "      <td>0</td>\n",
              "      <td>0</td>\n",
              "      <td>0</td>\n",
              "      <td>0</td>\n",
              "      <td>0</td>\n",
              "      <td>0</td>\n",
              "      <td>1</td>\n",
              "    </tr>\n",
              "    <tr>\n",
              "      <th>92037</th>\n",
              "      <td>0</td>\n",
              "      <td>1</td>\n",
              "      <td>1</td>\n",
              "      <td>0</td>\n",
              "      <td>0</td>\n",
              "      <td>1</td>\n",
              "      <td>0</td>\n",
              "      <td>0</td>\n",
              "      <td>1</td>\n",
              "      <td>1</td>\n",
              "      <td>0</td>\n",
              "    </tr>\n",
              "    <tr>\n",
              "      <th>132406</th>\n",
              "      <td>0</td>\n",
              "      <td>1</td>\n",
              "      <td>1</td>\n",
              "      <td>0</td>\n",
              "      <td>0</td>\n",
              "      <td>1</td>\n",
              "      <td>0</td>\n",
              "      <td>0</td>\n",
              "      <td>1</td>\n",
              "      <td>1</td>\n",
              "      <td>0</td>\n",
              "    </tr>\n",
              "    <tr>\n",
              "      <th>156648</th>\n",
              "      <td>0</td>\n",
              "      <td>1</td>\n",
              "      <td>1</td>\n",
              "      <td>1</td>\n",
              "      <td>0</td>\n",
              "      <td>0</td>\n",
              "      <td>1</td>\n",
              "      <td>1</td>\n",
              "      <td>1</td>\n",
              "      <td>0</td>\n",
              "      <td>1</td>\n",
              "    </tr>\n",
              "  </tbody>\n",
              "</table>\n",
              "</div>\n",
              "    <div class=\"colab-df-buttons\">\n",
              "\n",
              "  <div class=\"colab-df-container\">\n",
              "    <button class=\"colab-df-convert\" onclick=\"convertToInteractive('df-39420a6b-6e06-4a45-a5e7-31a0d75a0179')\"\n",
              "            title=\"Convert this dataframe to an interactive table.\"\n",
              "            style=\"display:none;\">\n",
              "\n",
              "  <svg xmlns=\"http://www.w3.org/2000/svg\" height=\"24px\" viewBox=\"0 -960 960 960\">\n",
              "    <path d=\"M120-120v-720h720v720H120Zm60-500h600v-160H180v160Zm220 220h160v-160H400v160Zm0 220h160v-160H400v160ZM180-400h160v-160H180v160Zm440 0h160v-160H620v160ZM180-180h160v-160H180v160Zm440 0h160v-160H620v160Z\"/>\n",
              "  </svg>\n",
              "    </button>\n",
              "\n",
              "  <style>\n",
              "    .colab-df-container {\n",
              "      display:flex;\n",
              "      gap: 12px;\n",
              "    }\n",
              "\n",
              "    .colab-df-convert {\n",
              "      background-color: #E8F0FE;\n",
              "      border: none;\n",
              "      border-radius: 50%;\n",
              "      cursor: pointer;\n",
              "      display: none;\n",
              "      fill: #1967D2;\n",
              "      height: 32px;\n",
              "      padding: 0 0 0 0;\n",
              "      width: 32px;\n",
              "    }\n",
              "\n",
              "    .colab-df-convert:hover {\n",
              "      background-color: #E2EBFA;\n",
              "      box-shadow: 0px 1px 2px rgba(60, 64, 67, 0.3), 0px 1px 3px 1px rgba(60, 64, 67, 0.15);\n",
              "      fill: #174EA6;\n",
              "    }\n",
              "\n",
              "    .colab-df-buttons div {\n",
              "      margin-bottom: 4px;\n",
              "    }\n",
              "\n",
              "    [theme=dark] .colab-df-convert {\n",
              "      background-color: #3B4455;\n",
              "      fill: #D2E3FC;\n",
              "    }\n",
              "\n",
              "    [theme=dark] .colab-df-convert:hover {\n",
              "      background-color: #434B5C;\n",
              "      box-shadow: 0px 1px 3px 1px rgba(0, 0, 0, 0.15);\n",
              "      filter: drop-shadow(0px 1px 2px rgba(0, 0, 0, 0.3));\n",
              "      fill: #FFFFFF;\n",
              "    }\n",
              "  </style>\n",
              "\n",
              "    <script>\n",
              "      const buttonEl =\n",
              "        document.querySelector('#df-39420a6b-6e06-4a45-a5e7-31a0d75a0179 button.colab-df-convert');\n",
              "      buttonEl.style.display =\n",
              "        google.colab.kernel.accessAllowed ? 'block' : 'none';\n",
              "\n",
              "      async function convertToInteractive(key) {\n",
              "        const element = document.querySelector('#df-39420a6b-6e06-4a45-a5e7-31a0d75a0179');\n",
              "        const dataTable =\n",
              "          await google.colab.kernel.invokeFunction('convertToInteractive',\n",
              "                                                    [key], {});\n",
              "        if (!dataTable) return;\n",
              "\n",
              "        const docLinkHtml = 'Like what you see? Visit the ' +\n",
              "          '<a target=\"_blank\" href=https://colab.research.google.com/notebooks/data_table.ipynb>data table notebook</a>'\n",
              "          + ' to learn more about interactive tables.';\n",
              "        element.innerHTML = '';\n",
              "        dataTable['output_type'] = 'display_data';\n",
              "        await google.colab.output.renderOutput(dataTable, element);\n",
              "        const docLink = document.createElement('div');\n",
              "        docLink.innerHTML = docLinkHtml;\n",
              "        element.appendChild(docLink);\n",
              "      }\n",
              "    </script>\n",
              "  </div>\n",
              "\n",
              "\n",
              "    <div id=\"df-6e67c7b4-4b2d-4192-b31e-a58dd94af381\">\n",
              "      <button class=\"colab-df-quickchart\" onclick=\"quickchart('df-6e67c7b4-4b2d-4192-b31e-a58dd94af381')\"\n",
              "                title=\"Suggest charts\"\n",
              "                style=\"display:none;\">\n",
              "\n",
              "<svg xmlns=\"http://www.w3.org/2000/svg\" height=\"24px\"viewBox=\"0 0 24 24\"\n",
              "     width=\"24px\">\n",
              "    <g>\n",
              "        <path d=\"M19 3H5c-1.1 0-2 .9-2 2v14c0 1.1.9 2 2 2h14c1.1 0 2-.9 2-2V5c0-1.1-.9-2-2-2zM9 17H7v-7h2v7zm4 0h-2V7h2v10zm4 0h-2v-4h2v4z\"/>\n",
              "    </g>\n",
              "</svg>\n",
              "      </button>\n",
              "\n",
              "<style>\n",
              "  .colab-df-quickchart {\n",
              "      --bg-color: #E8F0FE;\n",
              "      --fill-color: #1967D2;\n",
              "      --hover-bg-color: #E2EBFA;\n",
              "      --hover-fill-color: #174EA6;\n",
              "      --disabled-fill-color: #AAA;\n",
              "      --disabled-bg-color: #DDD;\n",
              "  }\n",
              "\n",
              "  [theme=dark] .colab-df-quickchart {\n",
              "      --bg-color: #3B4455;\n",
              "      --fill-color: #D2E3FC;\n",
              "      --hover-bg-color: #434B5C;\n",
              "      --hover-fill-color: #FFFFFF;\n",
              "      --disabled-bg-color: #3B4455;\n",
              "      --disabled-fill-color: #666;\n",
              "  }\n",
              "\n",
              "  .colab-df-quickchart {\n",
              "    background-color: var(--bg-color);\n",
              "    border: none;\n",
              "    border-radius: 50%;\n",
              "    cursor: pointer;\n",
              "    display: none;\n",
              "    fill: var(--fill-color);\n",
              "    height: 32px;\n",
              "    padding: 0;\n",
              "    width: 32px;\n",
              "  }\n",
              "\n",
              "  .colab-df-quickchart:hover {\n",
              "    background-color: var(--hover-bg-color);\n",
              "    box-shadow: 0 1px 2px rgba(60, 64, 67, 0.3), 0 1px 3px 1px rgba(60, 64, 67, 0.15);\n",
              "    fill: var(--button-hover-fill-color);\n",
              "  }\n",
              "\n",
              "  .colab-df-quickchart-complete:disabled,\n",
              "  .colab-df-quickchart-complete:disabled:hover {\n",
              "    background-color: var(--disabled-bg-color);\n",
              "    fill: var(--disabled-fill-color);\n",
              "    box-shadow: none;\n",
              "  }\n",
              "\n",
              "  .colab-df-spinner {\n",
              "    border: 2px solid var(--fill-color);\n",
              "    border-color: transparent;\n",
              "    border-bottom-color: var(--fill-color);\n",
              "    animation:\n",
              "      spin 1s steps(1) infinite;\n",
              "  }\n",
              "\n",
              "  @keyframes spin {\n",
              "    0% {\n",
              "      border-color: transparent;\n",
              "      border-bottom-color: var(--fill-color);\n",
              "      border-left-color: var(--fill-color);\n",
              "    }\n",
              "    20% {\n",
              "      border-color: transparent;\n",
              "      border-left-color: var(--fill-color);\n",
              "      border-top-color: var(--fill-color);\n",
              "    }\n",
              "    30% {\n",
              "      border-color: transparent;\n",
              "      border-left-color: var(--fill-color);\n",
              "      border-top-color: var(--fill-color);\n",
              "      border-right-color: var(--fill-color);\n",
              "    }\n",
              "    40% {\n",
              "      border-color: transparent;\n",
              "      border-right-color: var(--fill-color);\n",
              "      border-top-color: var(--fill-color);\n",
              "    }\n",
              "    60% {\n",
              "      border-color: transparent;\n",
              "      border-right-color: var(--fill-color);\n",
              "    }\n",
              "    80% {\n",
              "      border-color: transparent;\n",
              "      border-right-color: var(--fill-color);\n",
              "      border-bottom-color: var(--fill-color);\n",
              "    }\n",
              "    90% {\n",
              "      border-color: transparent;\n",
              "      border-bottom-color: var(--fill-color);\n",
              "    }\n",
              "  }\n",
              "</style>\n",
              "\n",
              "      <script>\n",
              "        async function quickchart(key) {\n",
              "          const quickchartButtonEl =\n",
              "            document.querySelector('#' + key + ' button');\n",
              "          quickchartButtonEl.disabled = true;  // To prevent multiple clicks.\n",
              "          quickchartButtonEl.classList.add('colab-df-spinner');\n",
              "          try {\n",
              "            const charts = await google.colab.kernel.invokeFunction(\n",
              "                'suggestCharts', [key], {});\n",
              "          } catch (error) {\n",
              "            console.error('Error during call to suggestCharts:', error);\n",
              "          }\n",
              "          quickchartButtonEl.classList.remove('colab-df-spinner');\n",
              "          quickchartButtonEl.classList.add('colab-df-quickchart-complete');\n",
              "        }\n",
              "        (() => {\n",
              "          let quickchartButtonEl =\n",
              "            document.querySelector('#df-6e67c7b4-4b2d-4192-b31e-a58dd94af381 button');\n",
              "          quickchartButtonEl.style.display =\n",
              "            google.colab.kernel.accessAllowed ? 'block' : 'none';\n",
              "        })();\n",
              "      </script>\n",
              "    </div>\n",
              "\n",
              "    </div>\n",
              "  </div>\n"
            ],
            "application/vnd.google.colaboratory.intrinsic+json": {
              "type": "dataframe",
              "summary": "{\n  \"name\": \"new_df[PREDICTIONS+IS_CORRECT+['is_positive_growth_30d_future']]\",\n  \"rows\": 5,\n  \"fields\": [\n    {\n      \"column\": \"pred0_manual_cci\",\n      \"properties\": {\n        \"dtype\": \"number\",\n        \"std\": 0,\n        \"min\": 0,\n        \"max\": 0,\n        \"num_unique_values\": 1,\n        \"samples\": [\n          0\n        ],\n        \"semantic_type\": \"\",\n        \"description\": \"\"\n      }\n    },\n    {\n      \"column\": \"pred1_manual_prev_g1\",\n      \"properties\": {\n        \"dtype\": \"number\",\n        \"std\": 0,\n        \"min\": 0,\n        \"max\": 1,\n        \"num_unique_values\": 2,\n        \"samples\": [\n          0\n        ],\n        \"semantic_type\": \"\",\n        \"description\": \"\"\n      }\n    },\n    {\n      \"column\": \"pred2_manual_prev_g1_and_snp\",\n      \"properties\": {\n        \"dtype\": \"number\",\n        \"std\": 0,\n        \"min\": 0,\n        \"max\": 1,\n        \"num_unique_values\": 2,\n        \"samples\": [\n          1\n        ],\n        \"semantic_type\": \"\",\n        \"description\": \"\"\n      }\n    },\n    {\n      \"column\": \"pred3_manual_dgs10_5\",\n      \"properties\": {\n        \"dtype\": \"number\",\n        \"std\": 0,\n        \"min\": 0,\n        \"max\": 1,\n        \"num_unique_values\": 2,\n        \"samples\": [\n          1\n        ],\n        \"semantic_type\": \"\",\n        \"description\": \"\"\n      }\n    },\n    {\n      \"column\": \"pred4_manual_dgs10_fedfunds\",\n      \"properties\": {\n        \"dtype\": \"number\",\n        \"std\": 0,\n        \"min\": 0,\n        \"max\": 0,\n        \"num_unique_values\": 1,\n        \"samples\": [\n          0\n        ],\n        \"semantic_type\": \"\",\n        \"description\": \"\"\n      }\n    },\n    {\n      \"column\": \"is_correct_pred0\",\n      \"properties\": {\n        \"dtype\": \"number\",\n        \"std\": 0,\n        \"min\": 0,\n        \"max\": 1,\n        \"num_unique_values\": 2,\n        \"samples\": [\n          1\n        ],\n        \"semantic_type\": \"\",\n        \"description\": \"\"\n      }\n    },\n    {\n      \"column\": \"is_correct_pred1\",\n      \"properties\": {\n        \"dtype\": \"number\",\n        \"std\": 0,\n        \"min\": 0,\n        \"max\": 1,\n        \"num_unique_values\": 2,\n        \"samples\": [\n          0\n        ],\n        \"semantic_type\": \"\",\n        \"description\": \"\"\n      }\n    },\n    {\n      \"column\": \"is_correct_pred2\",\n      \"properties\": {\n        \"dtype\": \"number\",\n        \"std\": 0,\n        \"min\": 0,\n        \"max\": 1,\n        \"num_unique_values\": 2,\n        \"samples\": [\n          1\n        ],\n        \"semantic_type\": \"\",\n        \"description\": \"\"\n      }\n    },\n    {\n      \"column\": \"is_correct_pred3\",\n      \"properties\": {\n        \"dtype\": \"number\",\n        \"std\": 0,\n        \"min\": 0,\n        \"max\": 1,\n        \"num_unique_values\": 2,\n        \"samples\": [\n          1\n        ],\n        \"semantic_type\": \"\",\n        \"description\": \"\"\n      }\n    },\n    {\n      \"column\": \"is_correct_pred4\",\n      \"properties\": {\n        \"dtype\": \"number\",\n        \"std\": 0,\n        \"min\": 0,\n        \"max\": 1,\n        \"num_unique_values\": 2,\n        \"samples\": [\n          1\n        ],\n        \"semantic_type\": \"\",\n        \"description\": \"\"\n      }\n    },\n    {\n      \"column\": \"is_positive_growth_30d_future\",\n      \"properties\": {\n        \"dtype\": \"number\",\n        \"std\": 0,\n        \"min\": 0,\n        \"max\": 1,\n        \"num_unique_values\": 2,\n        \"samples\": [\n          0\n        ],\n        \"semantic_type\": \"\",\n        \"description\": \"\"\n      }\n    }\n  ]\n}"
            }
          },
          "metadata": {},
          "execution_count": 77
        }
      ],
      "source": [
        "# sample of a dataframe\n",
        "new_df[PREDICTIONS+IS_CORRECT+['is_positive_growth_30d_future']].sample(5)"
      ]
    },
    {
      "cell_type": "code",
      "execution_count": 78,
      "metadata": {
        "colab": {
          "base_uri": "https://localhost:8080/"
        },
        "id": "qeKyzptN_hoA",
        "outputId": "cb2e081d-e763-41b3-c556-72a0184bb3d6"
      },
      "outputs": [
        {
          "output_type": "execute_result",
          "data": {
            "text/plain": [
              "31408"
            ]
          },
          "metadata": {},
          "execution_count": 78
        }
      ],
      "source": [
        "len(new_df[new_df.split=='test'])"
      ]
    },
    {
      "cell_type": "code",
      "source": [
        "# Define the columns for True Positives (TP) and False Positives (FP)\n",
        "for i, column in enumerate(IS_CORRECT):\n",
        "  prediction_column = PREDICTIONS[i]\n",
        "  is_correct_column = column\n",
        "  filter_predicted_positive = (new_df.split=='test') & (new_df[prediction_column]==1)\n",
        "\n",
        "  # TP - When the prediction is 1 and the actual is 1 (is_correct == 1 when prediction is 1)\n",
        "  tp = new_df[filter_predicted_positive][is_correct_column].sum()\n",
        "\n",
        "  # FP - When the prediction is 1 and the actual is 0 (is_correct == 0 when prediction is 1)\n",
        "  fp = len(new_df[filter_predicted_positive]) - tp\n",
        "\n",
        "  # Calculate precision\n",
        "  precision = tp / (tp + fp) if (tp + fp) > 0 else 0\n",
        "\n",
        "  print(f'Prediction column: {prediction_column}')\n",
        "  print(f'TP: {tp}, FP: {fp}')\n",
        "  print(f'Precision: {precision:.3f}')\n",
        "  print('-'*50)"
      ],
      "metadata": {
        "colab": {
          "base_uri": "https://localhost:8080/"
        },
        "id": "UE6B0a99FJgj",
        "outputId": "00cbc991-1e08-4bc2-a33a-193c43ab04c3"
      },
      "execution_count": 79,
      "outputs": [
        {
          "output_type": "stream",
          "name": "stdout",
          "text": [
            "Prediction column: pred0_manual_cci\n",
            "TP: 443, FP: 351\n",
            "Precision: 0.558\n",
            "--------------------------------------------------\n",
            "Prediction column: pred1_manual_prev_g1\n",
            "TP: 9748, FP: 8243\n",
            "Precision: 0.542\n",
            "--------------------------------------------------\n",
            "Prediction column: pred2_manual_prev_g1_and_snp\n",
            "TP: 6984, FP: 6383\n",
            "Precision: 0.522\n",
            "--------------------------------------------------\n",
            "Prediction column: pred3_manual_dgs10_5\n",
            "TP: 578, FP: 419\n",
            "Precision: 0.580\n",
            "--------------------------------------------------\n",
            "Prediction column: pred4_manual_dgs10_fedfunds\n",
            "TP: 2640, FP: 3020\n",
            "Precision: 0.466\n",
            "--------------------------------------------------\n"
          ]
        }
      ]
    },
    {
      "cell_type": "markdown",
      "source": [
        " The precision score for the best of the new predictions is 0.580 (`pred4`)"
      ],
      "metadata": {
        "id": "VOharyCGKwPL"
      }
    },
    {
      "cell_type": "markdown",
      "metadata": {
        "id": "CjHY1B-1Bvtf"
      },
      "source": [
        "## ***Binary Decision Tree***"
      ]
    },
    {
      "cell_type": "markdown",
      "metadata": {
        "id": "0oYKW8lodlM7"
      },
      "source": [
        "**Define dataframes AND perform data cleaning**\n",
        "* define X_train (dataframe), X_test (dataframe), y_train (series), y_test (series)\n",
        "* replace +-inf. with 0\n",
        "* fill NaNs with 0 (you can drop it too, but will loose a lot of data in our case\n",
        "* remove 1-2% outliers (in each dimension, or only in variable to_predict :: we won't use it for a Decision Tree"
      ]
    },
    {
      "cell_type": "code",
      "execution_count": 145,
      "metadata": {
        "id": "wpXBvokZPLTM"
      },
      "outputs": [],
      "source": [
        "pd.set_option('display.max_rows', None)\n",
        "pd.set_option('display.precision', 4)"
      ]
    },
    {
      "cell_type": "code",
      "execution_count": 82,
      "metadata": {
        "colab": {
          "base_uri": "https://localhost:8080/"
        },
        "id": "NoiZYkfhQa_g",
        "outputId": "98f365de-4007-43b7-f502-d5733ad4a38e"
      },
      "outputs": [
        {
          "output_type": "stream",
          "name": "stdout",
          "text": [
            "length: X_train (160387, 302),  X_test (31408, 302)\n"
          ]
        }
      ],
      "source": [
        "# Split the data into training and testing sets based on the split date\n",
        "features_list = NUMERICAL + DUMMIES\n",
        "\n",
        "to_predict = 'is_positive_growth_30d_future'\n",
        "\n",
        "train_df = new_df[new_df.split.isin(['train','validation'])].copy(deep=True)\n",
        "test_df = new_df[new_df.split.isin(['test'])].copy(deep=True)\n",
        "\n",
        "# ONLY numerical Separate features and target variable for training and testing sets\n",
        "# need Date and Ticker later when merging predictions to the dataset\n",
        "X_train = train_df[features_list+[to_predict,'Date','Ticker']]\n",
        "X_test = test_df[features_list+[to_predict,'Date','Ticker']]\n",
        "\n",
        "print(f'length: X_train {X_train.shape},  X_test {X_test.shape}')"
      ]
    },
    {
      "cell_type": "code",
      "execution_count": 146,
      "metadata": {
        "id": "46GYMy7KRUB3"
      },
      "outputs": [],
      "source": [
        "# Disable SettingWithCopyWarning\n",
        "pd.options.mode.chained_assignment = None  # default='warn'\n",
        "\n",
        "# Need to fill NaNs somehow\n",
        "X_train.fillna(0, inplace=True)\n",
        "X_test.fillna(0, inplace=True)"
      ]
    },
    {
      "cell_type": "code",
      "execution_count": 84,
      "metadata": {
        "id": "8-NNrhAKWXr8"
      },
      "outputs": [],
      "source": [
        "X_train_imputed = X_train # we won't use outliers removal to save more data to train: remove_outliers_percentile(X_train)\n",
        "X_test_imputed = X_test # we won't use outliers removal to save more data to test: remove_outliers_percentile(X_test)"
      ]
    },
    {
      "cell_type": "code",
      "execution_count": 85,
      "metadata": {
        "id": "E6A_zhDLW0aC"
      },
      "outputs": [],
      "source": [
        "y_train = X_train_imputed[to_predict]\n",
        "y_test = X_test_imputed[to_predict]\n",
        "\n",
        "# remove y_train, y_test from X_ dataframes\n",
        "del X_train_imputed[to_predict]\n",
        "del X_test_imputed[to_predict]"
      ]
    },
    {
      "cell_type": "code",
      "execution_count": 86,
      "metadata": {
        "id": "QcJAw5w9R7pA"
      },
      "outputs": [],
      "source": [
        "def fit_decision_tree(X, y, max_depth=10):\n",
        "# Initialize the Decision Tree Classifier\n",
        "  clf = DecisionTreeClassifier(max_depth=max_depth, random_state=42)\n",
        "\n",
        "  # Fit the classifier to the training data\n",
        "  clf.fit(X, y)\n",
        "  return clf"
      ]
    },
    {
      "cell_type": "code",
      "execution_count": 87,
      "metadata": {
        "colab": {
          "base_uri": "https://localhost:8080/"
        },
        "id": "ClqSfId-gbMW",
        "outputId": "634ddd9b-f1fd-4f67-a2d2-e0359fd4e437",
        "collapsed": true
      },
      "outputs": [
        {
          "output_type": "stream",
          "name": "stdout",
          "text": [
            "CPU times: user 1min 27s, sys: 713 ms, total: 1min 28s\n",
            "Wall time: 51.5 s\n"
          ]
        }
      ],
      "source": [
        "clf_10 = fit_decision_tree(X=X_train_imputed.drop(['Date','Ticker'],axis=1),\n",
        "                           y=y_train)"
      ]
    },
    {
      "cell_type": "markdown",
      "metadata": {
        "id": "3QbUrS7Ygm2G"
      },
      "source": [
        "### ***Inference for a Decision Tree***"
      ]
    },
    {
      "cell_type": "code",
      "execution_count": 147,
      "metadata": {
        "id": "csUq1CWISRCe"
      },
      "outputs": [],
      "source": [
        "def predict_decision_tree(clf:DecisionTreeClassifier, df_X:pd.DataFrame, y_true: pd.Series):\n",
        "  # Predict the target variable on the test data\n",
        "  y_pred = clf.predict(df_X)\n",
        "\n",
        "  max_depth = clf.tree_.max_depth\n",
        "  # Print the maximum depth\n",
        "  print(\"Maximum depth of the decision tree:\", max_depth)\n",
        "\n",
        "  # Calculate the accuracy/precision of the model\n",
        "  accuracy = accuracy_score(y_test, y_pred)\n",
        "  precision = precision_score(y_test, y_pred)\n",
        "  print(f'Accuracy = {accuracy}, precision = {precision}')\n",
        "\n",
        "  # resulting df\n",
        "  result_df = pd.concat([df_X, y_true, pd.Series(y_pred, index=df_X.index, name='pred_')], axis=1)\n",
        "\n",
        "  return result_df"
      ]
    },
    {
      "cell_type": "code",
      "execution_count": 148,
      "metadata": {
        "colab": {
          "base_uri": "https://localhost:8080/"
        },
        "id": "37DPFof2h-Cy",
        "outputId": "501c511c-2f72-4f2e-a9f8-9af335d299f4"
      },
      "outputs": [
        {
          "output_type": "stream",
          "name": "stdout",
          "text": [
            "Maximum depth of the decision tree: 10\n",
            "Accuracy = 0.5583927661742232, precision = 0.5898212979412687\n"
          ]
        }
      ],
      "source": [
        "pred10 = predict_decision_tree(clf_10, X_test_imputed.drop(['Date','Ticker'],axis=1), y_test)"
      ]
    },
    {
      "cell_type": "markdown",
      "source": [
        "\n",
        "\n",
        "---\n",
        "\n"
      ],
      "metadata": {
        "id": "lBVx2DeJmrj_"
      }
    },
    {
      "cell_type": "markdown",
      "source": [
        "## **Question 3:** Unique Correct Predictions from a 10-Level Decision Tree Classifier (pred5_clf_10)\n",
        "\n",
        "What is the total number of records in the **TEST** dataset where the new prediction `pred5_clf_10` is correct, while all 'hand' rule predictions (`pred0` to `pred4`) are incorrect?\n",
        "\n",
        "To ensure reproducibility, please include the following parameter in the Decision Tree Classifier:\n",
        "\n",
        "  ```clf = DecisionTreeClassifier(max_depth=max_depth, random_state=42)```\n",
        "\n",
        "**Step 1: Train the Decision Tree and Generate Predictions**\n",
        "  * Initialize a Decision Tree Classifier with a maximum depth of 10 and set `random_state=42` for reproducibility.\n",
        "  * Fit the classifier on the combined TRAIN and VALIDATION datasets.\n",
        "  * Use the trained model to predict on the entire dataset (TRAIN + VALIDATION + TEST).\n",
        "  * Store these predictions in a new column named `pred5_clf_10` within your main dataframe.\n",
        "  * Hint: When predicting on the entire dataset, it's easy to join the predictions with the full DataFrame, since the number of records and their order remain the same. You will need to define X_all and y_all and apply the same cleaning steps used previously for X_train, y_train, X_test, and y_test. This makes it straightforward to define a new column, for example:\n",
        "\n",
        "    ```df['pred5_clf_10'] = <predictions vector from clf10.predict(X_all)>```\n",
        "\n",
        "**Step 2: Identify Unique Correct Predictions by pred5_clf_10**\n",
        "  * Create a new boolean column, `only_pred5_is_correct`, that is `True` only when:\n",
        "    * The prediction from `pred5_clf_10` is correct (i.e., matches the true label).\n",
        "    * All other hand rule predictions (`pred0` through `pred4`) are incorrect.\n",
        "\n",
        "**Step 3: Count Unique Correct Predictions on the TEST Set**\n",
        "\n",
        "  * Convert the `only_pred5_is_correct` column from boolean to integer.\n",
        "  * Filter the dataframe for records belonging to the TEST dataset.\n",
        "  * Count how many records in the **TEST set** have `only_pred5_is_correct` equal to 1.\n",
        "  * Report this count as your final answer."
      ],
      "metadata": {
        "id": "WAKi4U8PXoCF"
      }
    },
    {
      "cell_type": "code",
      "source": [
        "# Define the train columns for prediction\n",
        "# Use the entire dataset\n",
        "X_all = new_df[features_list+[to_predict,'Date','Ticker']]\n",
        "X_all.fillna(0, inplace=True)\n",
        "\n",
        "print(X_all.shape)"
      ],
      "metadata": {
        "colab": {
          "base_uri": "https://localhost:8080/"
        },
        "id": "1bN6QOi6WZCC",
        "outputId": "dceec0f7-b103-4a56-e107-8c9de9fb088e"
      },
      "execution_count": 103,
      "outputs": [
        {
          "output_type": "stream",
          "name": "stdout",
          "text": [
            "(191795, 302)\n"
          ]
        }
      ]
    },
    {
      "cell_type": "code",
      "source": [
        "y_all = X_all[to_predict]\n",
        "print(y_all.shape)\n",
        "\n",
        "# remove y_all X_ dataframes\n",
        "del X_all[to_predict]"
      ],
      "metadata": {
        "colab": {
          "base_uri": "https://localhost:8080/"
        },
        "id": "fPnFcxdrOlud",
        "outputId": "76b78d55-b405-416e-ebb3-2f47bc63fa95"
      },
      "execution_count": 105,
      "outputs": [
        {
          "output_type": "stream",
          "name": "stdout",
          "text": [
            "(191795,)\n"
          ]
        }
      ]
    },
    {
      "cell_type": "code",
      "source": [
        "# Predict on the entire dataset\n",
        "# use the previously fitted model, train on train + validation dataset\n",
        "new_df['pred5_clf_10'] = clf_10.predict(X_all.drop(['Date','Ticker'],axis=1))\n",
        "new_df['pred5_clf_10'].value_counts()"
      ],
      "metadata": {
        "colab": {
          "base_uri": "https://localhost:8080/",
          "height": 178
        },
        "id": "D0rN0FY1W06n",
        "outputId": "59bffafa-3b12-4bbf-86fa-b52f1cf89d27"
      },
      "execution_count": 107,
      "outputs": [
        {
          "output_type": "execute_result",
          "data": {
            "text/plain": [
              "pred5_clf_10\n",
              "1    141988\n",
              "0     49807\n",
              "Name: count, dtype: int64"
            ],
            "text/html": [
              "<div>\n",
              "<style scoped>\n",
              "    .dataframe tbody tr th:only-of-type {\n",
              "        vertical-align: middle;\n",
              "    }\n",
              "\n",
              "    .dataframe tbody tr th {\n",
              "        vertical-align: top;\n",
              "    }\n",
              "\n",
              "    .dataframe thead th {\n",
              "        text-align: right;\n",
              "    }\n",
              "</style>\n",
              "<table border=\"1\" class=\"dataframe\">\n",
              "  <thead>\n",
              "    <tr style=\"text-align: right;\">\n",
              "      <th></th>\n",
              "      <th>count</th>\n",
              "    </tr>\n",
              "    <tr>\n",
              "      <th>pred5_clf_10</th>\n",
              "      <th></th>\n",
              "    </tr>\n",
              "  </thead>\n",
              "  <tbody>\n",
              "    <tr>\n",
              "      <th>1</th>\n",
              "      <td>141988</td>\n",
              "    </tr>\n",
              "    <tr>\n",
              "      <th>0</th>\n",
              "      <td>49807</td>\n",
              "    </tr>\n",
              "  </tbody>\n",
              "</table>\n",
              "</div><br><label><b>dtype:</b> int64</label>"
            ]
          },
          "metadata": {},
          "execution_count": 107
        }
      ]
    },
    {
      "cell_type": "code",
      "source": [
        "  accuracy = accuracy_score(new_df['pred5_clf_10'], y_all)\n",
        "  precision = precision_score(new_df['pred5_clf_10'], y_all)\n",
        "  f1 = f1_score(new_df['pred5_clf_10'], y_all)\n",
        "  print(f'Accuracy = {accuracy}, Precision = {precision}, F1_score = {f1}')"
      ],
      "metadata": {
        "colab": {
          "base_uri": "https://localhost:8080/"
        },
        "id": "Y67wSzUjZlJS",
        "outputId": "871b6f20-92e8-4cdc-d144-9697315487b0"
      },
      "execution_count": 108,
      "outputs": [
        {
          "output_type": "stream",
          "name": "stdout",
          "text": [
            "Accuracy = 0.6960400427539821, Precision = 0.8679457643810562, F1_score = 0.7720187396857426\n"
          ]
        }
      ]
    },
    {
      "cell_type": "code",
      "source": [
        "# Check if pred5_clf_10 is correct\n",
        "new_df['is_correct_pred5_clf_10'] = (new_df['pred5_clf_10'] == new_df['is_positive_growth_30d_future']).astype(int)\n",
        "\n",
        "new_df.groupby('split')['is_correct_pred5_clf_10'].value_counts()"
      ],
      "metadata": {
        "colab": {
          "base_uri": "https://localhost:8080/",
          "height": 304
        },
        "id": "BP5uA0A6amFB",
        "outputId": "83cbbd72-ee0c-4cd7-e96a-fab2d2d44b77"
      },
      "execution_count": 109,
      "outputs": [
        {
          "output_type": "execute_result",
          "data": {
            "text/plain": [
              "split       is_correct_pred5_clf_10\n",
              "test        1                          17538\n",
              "            0                          13870\n",
              "train       1                          92672\n",
              "            0                          37058\n",
              "validation  1                          23287\n",
              "            0                           7370\n",
              "Name: count, dtype: int64"
            ],
            "text/html": [
              "<div>\n",
              "<style scoped>\n",
              "    .dataframe tbody tr th:only-of-type {\n",
              "        vertical-align: middle;\n",
              "    }\n",
              "\n",
              "    .dataframe tbody tr th {\n",
              "        vertical-align: top;\n",
              "    }\n",
              "\n",
              "    .dataframe thead th {\n",
              "        text-align: right;\n",
              "    }\n",
              "</style>\n",
              "<table border=\"1\" class=\"dataframe\">\n",
              "  <thead>\n",
              "    <tr style=\"text-align: right;\">\n",
              "      <th></th>\n",
              "      <th></th>\n",
              "      <th>count</th>\n",
              "    </tr>\n",
              "    <tr>\n",
              "      <th>split</th>\n",
              "      <th>is_correct_pred5_clf_10</th>\n",
              "      <th></th>\n",
              "    </tr>\n",
              "  </thead>\n",
              "  <tbody>\n",
              "    <tr>\n",
              "      <th rowspan=\"2\" valign=\"top\">test</th>\n",
              "      <th>1</th>\n",
              "      <td>17538</td>\n",
              "    </tr>\n",
              "    <tr>\n",
              "      <th>0</th>\n",
              "      <td>13870</td>\n",
              "    </tr>\n",
              "    <tr>\n",
              "      <th rowspan=\"2\" valign=\"top\">train</th>\n",
              "      <th>1</th>\n",
              "      <td>92672</td>\n",
              "    </tr>\n",
              "    <tr>\n",
              "      <th>0</th>\n",
              "      <td>37058</td>\n",
              "    </tr>\n",
              "    <tr>\n",
              "      <th rowspan=\"2\" valign=\"top\">validation</th>\n",
              "      <th>1</th>\n",
              "      <td>23287</td>\n",
              "    </tr>\n",
              "    <tr>\n",
              "      <th>0</th>\n",
              "      <td>7370</td>\n",
              "    </tr>\n",
              "  </tbody>\n",
              "</table>\n",
              "</div><br><label><b>dtype:</b> int64</label>"
            ]
          },
          "metadata": {},
          "execution_count": 109
        }
      ]
    },
    {
      "cell_type": "code",
      "source": [
        " IS_CORRECT"
      ],
      "metadata": {
        "colab": {
          "base_uri": "https://localhost:8080/"
        },
        "id": "PPWoVXlsPRlg",
        "outputId": "b0c0ee02-0377-4bf4-b1fa-aecc3105661c"
      },
      "execution_count": 110,
      "outputs": [
        {
          "output_type": "execute_result",
          "data": {
            "text/plain": [
              "['is_correct_pred0',\n",
              " 'is_correct_pred1',\n",
              " 'is_correct_pred2',\n",
              " 'is_correct_pred3',\n",
              " 'is_correct_pred4']"
            ]
          },
          "metadata": {},
          "execution_count": 110
        }
      ]
    },
    {
      "cell_type": "code",
      "source": [
        "# Check if all hand rule predictions (pred0 to pred4) are incorrect\n",
        "new_df['all_hand_rules_incorrect'] = (new_df[IS_CORRECT].sum(axis=1) == 0).astype(int)\n",
        "\n",
        "# Create the new boolean column only_pred5_is_correct\n",
        "new_df['only_pred5_is_correct'] = ((new_df['is_correct_pred5_clf_10'] == 1) & (new_df['all_hand_rules_incorrect'] == 1)).astype(int)"
      ],
      "metadata": {
        "id": "PCn2ZI_auoQG"
      },
      "execution_count": 111,
      "outputs": []
    },
    {
      "cell_type": "code",
      "source": [
        "new_df.groupby('split')['only_pred5_is_correct'].value_counts()"
      ],
      "metadata": {
        "colab": {
          "base_uri": "https://localhost:8080/",
          "height": 304
        },
        "id": "11eEpA3Uhw4F",
        "outputId": "5a6819df-d58d-4247-9a96-66e7ecf0a5b0"
      },
      "execution_count": 113,
      "outputs": [
        {
          "output_type": "execute_result",
          "data": {
            "text/plain": [
              "split       only_pred5_is_correct\n",
              "test        0                         27569\n",
              "            1                          3839\n",
              "train       0                        110503\n",
              "            1                         19227\n",
              "validation  0                         27007\n",
              "            1                          3650\n",
              "Name: count, dtype: int64"
            ],
            "text/html": [
              "<div>\n",
              "<style scoped>\n",
              "    .dataframe tbody tr th:only-of-type {\n",
              "        vertical-align: middle;\n",
              "    }\n",
              "\n",
              "    .dataframe tbody tr th {\n",
              "        vertical-align: top;\n",
              "    }\n",
              "\n",
              "    .dataframe thead th {\n",
              "        text-align: right;\n",
              "    }\n",
              "</style>\n",
              "<table border=\"1\" class=\"dataframe\">\n",
              "  <thead>\n",
              "    <tr style=\"text-align: right;\">\n",
              "      <th></th>\n",
              "      <th></th>\n",
              "      <th>count</th>\n",
              "    </tr>\n",
              "    <tr>\n",
              "      <th>split</th>\n",
              "      <th>only_pred5_is_correct</th>\n",
              "      <th></th>\n",
              "    </tr>\n",
              "  </thead>\n",
              "  <tbody>\n",
              "    <tr>\n",
              "      <th rowspan=\"2\" valign=\"top\">test</th>\n",
              "      <th>0</th>\n",
              "      <td>27569</td>\n",
              "    </tr>\n",
              "    <tr>\n",
              "      <th>1</th>\n",
              "      <td>3839</td>\n",
              "    </tr>\n",
              "    <tr>\n",
              "      <th rowspan=\"2\" valign=\"top\">train</th>\n",
              "      <th>0</th>\n",
              "      <td>110503</td>\n",
              "    </tr>\n",
              "    <tr>\n",
              "      <th>1</th>\n",
              "      <td>19227</td>\n",
              "    </tr>\n",
              "    <tr>\n",
              "      <th rowspan=\"2\" valign=\"top\">validation</th>\n",
              "      <th>0</th>\n",
              "      <td>27007</td>\n",
              "    </tr>\n",
              "    <tr>\n",
              "      <th>1</th>\n",
              "      <td>3650</td>\n",
              "    </tr>\n",
              "  </tbody>\n",
              "</table>\n",
              "</div><br><label><b>dtype:</b> int64</label>"
            ]
          },
          "metadata": {},
          "execution_count": 113
        }
      ]
    },
    {
      "cell_type": "markdown",
      "source": [
        "\n",
        "\n",
        "---\n",
        "\n"
      ],
      "metadata": {
        "id": "2GEX4PHrmt56"
      }
    },
    {
      "cell_type": "markdown",
      "source": [
        "## **Question 4:** Hyperparameter tuning for a Decision Tree\n",
        "What is the **optimal tree depth** (from 1 to 20) for a DecisionTreeClassifier?\n",
        "\n",
        "**Instructions:**\n",
        "  * Iterate through max_depth values from 1 to 20.\n",
        "  * For each max_depth:\n",
        "    * Train a Decision Tree Classifier with the current max_depth on the combined TRAIN+VALIDATION dataset.\n",
        "  * Optionally, visualize how the 'head' (top levels) of each fitted tree changes with increasing tree depth.\n",
        "    * You can use:\n",
        "    `sklearn.tree.plot_tree()` for graphical visualization, or\n",
        "    * The compact textual approach with export_text() function. For example:\n",
        "\n",
        "      ```\n",
        "      from sklearn.tree import export_text\n",
        "      tree_rules = export_text(model, feature_names=list(X_train), max_depth=3)\n",
        "      print(tree_rules)\n",
        "      ```\n",
        "\n",
        "  * Calculate the **precision score** on the TEST dataset for each fitted tree. You may also track precision on the VALIDATION dataset to observe signs of overfitting.\n",
        "  * Identify the **optimal max_depth** where the precision score on the TEST dataset is highest. This value is your `best_max_depth`.\n",
        "  * Using best_max_depth, retrain the Decision Tree Classifier on the combined TRAIN+VALIDATION set.\n",
        "  * Predict on the entire dataset (TRAIN + VALIDATION + TEST) and add the predictions as a new column `pred6_clf_best` in your dataframe `new_df`.\n",
        "  * Compare the precision score of the tuned tree with previous predictions (`pred0` to `pred5`). You should observe an improvement, ideally achieving precision > 0.58, indicating the tuned tree outperforms earlier models."
      ],
      "metadata": {
        "id": "Bui-sT4JSm0_"
      }
    },
    {
      "cell_type": "code",
      "source": [
        "# Store precision scores\n",
        "precision_scores_test = []"
      ],
      "metadata": {
        "id": "pywiE9rgYRr3"
      },
      "execution_count": 120,
      "outputs": []
    },
    {
      "cell_type": "code",
      "source": [
        "for max_depth in range(1, 21):\n",
        "    clf = DecisionTreeClassifier(max_depth=max_depth, random_state=42)\n",
        "\n",
        "    # Training on train and validation datasets\n",
        "    clf.fit(X_train_imputed.drop(['Date','Ticker'],axis=1), y_train)\n",
        "\n",
        "    y_pred_test = clf.predict(X_test_imputed.drop(['Date','Ticker'],axis=1))\n",
        "    precision_test = precision_score(y_test, y_pred_test)\n",
        "    precision_scores_test.append(precision_test)"
      ],
      "metadata": {
        "id": "6TP6jT8IX7uM"
      },
      "execution_count": null,
      "outputs": []
    },
    {
      "cell_type": "code",
      "source": [
        "best_max_depth_index = precision_scores_test.index(max(precision_scores_test))\n",
        "max_depths = range(1, 21)\n",
        "best_max_depth = max_depths[best_max_depth_index]\n",
        "print(f\"\\nOptimal max_depth based on test precision: {best_max_depth}\")"
      ],
      "metadata": {
        "colab": {
          "base_uri": "https://localhost:8080/"
        },
        "id": "LkDYl3s4ZNdZ",
        "outputId": "a4a6a7e5-0cc1-41c9-d41c-9ea2eb37bbda"
      },
      "execution_count": 123,
      "outputs": [
        {
          "output_type": "stream",
          "name": "stdout",
          "text": [
            "\n",
            "Optimal max_depth based on test precision: 5\n"
          ]
        }
      ]
    },
    {
      "cell_type": "code",
      "source": [
        "# Plot the precision scores against the max_depth values to detect saturation or overfitting trends.\n",
        "\n",
        "plt.figure(figsize=(10, 6))\n",
        "plt.plot(range(1, 21), precision_scores_test, marker='o', linestyle='-')\n",
        "plt.title('Precision Score vs. Max Depth (Test Set)')\n",
        "plt.xlabel('Max Depth')\n",
        "plt.ylabel('Precision Score')\n",
        "plt.xticks(range(1, 21))\n",
        "plt.grid(True)\n",
        "plt.show()"
      ],
      "metadata": {
        "colab": {
          "base_uri": "https://localhost:8080/",
          "height": 564
        },
        "id": "ta9ywa1vaf_f",
        "outputId": "cb289ac4-eb8b-4537-9f43-99e14eaa400b"
      },
      "execution_count": 127,
      "outputs": [
        {
          "output_type": "display_data",
          "data": {
            "text/plain": [
              "<Figure size 1000x600 with 1 Axes>"
            ],
            "image/png": "[encoded data removed]"
          },
          "metadata": {}
        }
      ]
    },
    {
      "cell_type": "code",
      "source": [
        "# Retrain with the best max_depth\n",
        "clf_best = DecisionTreeClassifier(max_depth=best_max_depth, random_state=42)\n",
        "clf_best.fit(X_train_imputed.drop(['Date','Ticker'],axis=1), y_train)"
      ],
      "metadata": {
        "id": "WzVAMs_lZSIE"
      },
      "execution_count": null,
      "outputs": []
    },
    {
      "cell_type": "code",
      "source": [
        "# Predict on the entire dataset\n",
        "new_df['pred6_clf_best'] = clf_best.predict(X_all.drop(['Date','Ticker'],axis=1))"
      ],
      "metadata": {
        "id": "afVQQ9-9ZZuY"
      },
      "execution_count": 125,
      "outputs": []
    },
    {
      "cell_type": "code",
      "source": [
        "# Evaluate the best model\n",
        "accuracy_best = accuracy_score(new_df['pred6_clf_best'], y_all)\n",
        "precision_best = precision_score(new_df['pred6_clf_best'], y_all)\n",
        "f1_best = f1_score(new_df['pred6_clf_best'], y_all)\n",
        "print(f\"\\nBest Model Performance (max_depth={best_max_depth}) on All Data:\")\n",
        "print(f\"Accuracy = {accuracy_best:.3f}, Precision = {precision_best:.3f}, F1_score = {f1_best:.3f}\")"
      ],
      "metadata": {
        "colab": {
          "base_uri": "https://localhost:8080/"
        },
        "id": "Kd1zardNZU1I",
        "outputId": "7462ad58-60a8-455c-faef-765949cdf0c6"
      },
      "execution_count": 126,
      "outputs": [
        {
          "output_type": "stream",
          "name": "stdout",
          "text": [
            "\n",
            "Best Model Performance (max_depth=5) on All Data:\n",
            "Accuracy = 0.635, Precision = 0.832, F1_score = 0.730\n"
          ]
        }
      ]
    }
  ],
  "metadata": {
    "colab": {
      "provenance": [],
      "include_colab_link": true
    },
    "kernelspec": {
      "display_name": "Python 3",
      "name": "python3"
    },
    "language_info": {
      "name": "python"
    }
  },
  "nbformat": 4,
  "nbformat_minor": 0
}